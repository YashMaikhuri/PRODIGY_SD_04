{
 "cells": [
  {
   "cell_type": "code",
   "execution_count": 1,
   "id": "70534e8e-8b24-4df2-8f7c-96379f1004aa",
   "metadata": {},
   "outputs": [
    {
     "name": "stdout",
     "output_type": "stream",
     "text": [
      "Solved Sudoku Grid:\n",
      "5 3 4 6 7 8 9 1 2\n",
      "6 7 2 1 9 5 3 4 8\n",
      "1 9 8 3 4 2 5 6 7\n",
      "8 5 9 7 6 1 4 2 3\n",
      "4 2 6 8 5 3 7 9 1\n",
      "7 1 3 9 2 4 8 5 6\n",
      "9 6 1 5 3 7 2 8 4\n",
      "2 8 7 4 1 9 6 3 5\n",
      "3 4 5 2 8 6 1 7 9\n"
     ]
    }
   ],
   "source": [
    "# Function to print the Sudoku grid\n",
    "def print_grid(grid):\n",
    "    for row in grid:\n",
    "        print(\" \".join(str(cell) for cell in row))\n",
    "\n",
    "# Function to check if placing num in grid[row][col] is valid\n",
    "def is_valid(grid, row, col, num):\n",
    "    # Check if the number is already in the row\n",
    "    if num in grid[row]:\n",
    "        return False\n",
    "    \n",
    "    # Check if the number is already in the column\n",
    "    for i in range(9):\n",
    "        if grid[i][col] == num:\n",
    "            return False\n",
    "\n",
    "    # Check if the number is already in the 3x3 subgrid\n",
    "    start_row, start_col = 3 * (row // 3), 3 * (col // 3)\n",
    "    for i in range(start_row, start_row + 3):\n",
    "        for j in range(start_col, start_col + 3):\n",
    "            if grid[i][j] == num:\n",
    "                return False\n",
    "\n",
    "    return True\n",
    "\n",
    "# Function to find an empty cell (represented by 0)\n",
    "def find_empty(grid):\n",
    "    for i in range(9):\n",
    "        for j in range(9):\n",
    "            if grid[i][j] == 0:\n",
    "                return i, j  # Return row, col of empty cell\n",
    "    return None  # No empty cells\n",
    "\n",
    "# Backtracking function to solve the Sudoku\n",
    "def solve_sudoku(grid):\n",
    "    empty_cell = find_empty(grid)\n",
    "    if not empty_cell:\n",
    "        return True  # Puzzle solved\n",
    "    row, col = empty_cell\n",
    "\n",
    "    for num in range(1, 10):  # Try numbers 1 to 9\n",
    "        if is_valid(grid, row, col, num):\n",
    "            grid[row][col] = num  # Place the number\n",
    "\n",
    "            if solve_sudoku(grid):\n",
    "                return True\n",
    "\n",
    "            grid[row][col] = 0  # Reset the cell (backtrack)\n",
    "\n",
    "    return False  # Trigger backtracking if no number fits\n",
    "\n",
    "# Example unsolved Sudoku grid (0 represents an empty cell)\n",
    "sudoku_grid = [\n",
    "    [5, 3, 0, 0, 7, 0, 0, 0, 0],\n",
    "    [6, 0, 0, 1, 9, 5, 0, 0, 0],\n",
    "    [0, 9, 8, 0, 0, 0, 0, 6, 0],\n",
    "    [8, 0, 0, 0, 6, 0, 0, 0, 3],\n",
    "    [4, 0, 0, 8, 0, 3, 0, 0, 1],\n",
    "    [7, 0, 0, 0, 2, 0, 0, 0, 6],\n",
    "    [0, 6, 0, 0, 0, 0, 2, 8, 0],\n",
    "    [0, 0, 0, 4, 1, 9, 0, 0, 5],\n",
    "    [0, 0, 0, 0, 8, 0, 0, 7, 9]\n",
    "]\n",
    "\n",
    "# Main Program to solve and display the Sudoku\n",
    "if solve_sudoku(sudoku_grid):\n",
    "    print(\"Solved Sudoku Grid:\")\n",
    "    print_grid(sudoku_grid)\n",
    "else:\n",
    "    print(\"No solution exists for the given Sudoku.\")\n"
   ]
  },
  {
   "cell_type": "code",
   "execution_count": null,
   "id": "983071ef-ed0a-479f-b231-56555d2b8c89",
   "metadata": {},
   "outputs": [],
   "source": []
  }
 ],
 "metadata": {
  "kernelspec": {
   "display_name": "Python 3 (ipykernel)",
   "language": "python",
   "name": "python3"
  },
  "language_info": {
   "codemirror_mode": {
    "name": "ipython",
    "version": 3
   },
   "file_extension": ".py",
   "mimetype": "text/x-python",
   "name": "python",
   "nbconvert_exporter": "python",
   "pygments_lexer": "ipython3",
   "version": "3.11.8"
  }
 },
 "nbformat": 4,
 "nbformat_minor": 5
}
